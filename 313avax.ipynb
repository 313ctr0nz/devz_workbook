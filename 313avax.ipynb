{
  "nbformat": 4,
  "nbformat_minor": 0,
  "metadata": {
    "colab": {
      "name": "313avax.ipynb",
      "provenance": [],
      "collapsed_sections": [],
      "authorship_tag": "ABX9TyP2ZR9XCez2F1LiHrXhHDD5",
      "include_colab_link": true
    },
    "kernelspec": {
      "name": "python3",
      "display_name": "Python 3"
    },
    "language_info": {
      "name": "python"
    }
  },
  "cells": [
    {
      "cell_type": "markdown",
      "metadata": {
        "id": "view-in-github",
        "colab_type": "text"
      },
      "source": [
        "<a href=\"https://colab.research.google.com/github/313ctr0nz/devz_workbook/blob/main/313avax.ipynb\" target=\"_parent\"><img src=\"https://colab.research.google.com/assets/colab-badge.svg\" alt=\"Open In Colab\"/></a>"
      ]
    },
    {
      "cell_type": "code",
      "execution_count": 3,
      "metadata": {
        "id": "UUylSRBf9RnY"
      },
      "outputs": [],
      "source": [
        "api_key = \"\"\n",
        "wallet_address = \"0x5e8dcda987e97f78baf533bde8493a0a726ad1ef\" \n",
        "contract_address = \"0x95189f25b4609120F72783E883640216E92732DA\" # Thor"
      ]
    },
    {
      "cell_type": "code",
      "source": [
        "# MOVE ALL OF THIS TO A MODULE PLEASE!!!!\n",
        "\n",
        "import argparse\n",
        "import json\n",
        "import requests\n",
        "import time \n",
        "import datetime \n",
        "\n",
        "signatures = {\n",
        "    \"Transfer\"  : \"0xddf252ad1be2c89b69c2b068fc378daa952ba7f163c4a11628f55a4df523b3ef\",\n",
        "    \"Approve\"   : \"0x8c5be1e5ebec7d5bd14f71427d1e84f3dd0314c0f7b2291e5b200ac8c7c3b925\",\n",
        "    \"Sync\"      : \"0x1c411e9a96e071241c2f21f7726b17ae89e3cab4c78be50e062b03a9fffbbad1\",\n",
        "    \"Swap\"      : \"0xd78ad95fa46c994b6551d0da85fc275fe613ce37657fb8d5e3d130840159d822\",\n",
        "}\n",
        "\n",
        "addrs = {}\n",
        "\n",
        "def fetchtkn(contractAddr, apikey):\n",
        "    url = f\"https://api.snowtrace.io/api?module=account&action=tokentx&contractaddress={contractAddr}&page=1&offset=1&sort=desc&apikey={apikey}\"\n",
        "    # print(url)\n",
        "    try:\n",
        "        res = requests.get(url, timeout=1)\n",
        "        r=res.json().get(\"result\")[0]\n",
        "        # print(r)\n",
        "        return { \"name\" : r.get('tokenName'), \"symbol\" : r.get('tokenSymbol'), \"decimal\" : r.get('tokenDecimal')}\n",
        "    except:\n",
        "        print(\"Timeout\")\n",
        "        return {}\n",
        "\n",
        "def matchcontractinlog(contract_address, log):\n",
        "    for topic in log.get(\"topics\"):\n",
        "        # print(topic)\n",
        "        if contract_address[2:] in topic:\n",
        "            return True \n",
        "    return False\n",
        "\n",
        "def parsedata(log):\n",
        "    print(addrs[log.get(\"address\")])\n",
        "    data = []\n",
        "    if len(log.get(\"data\")) == 66:\n",
        "        data.append(log.get(\"data\"))\n",
        "    if len(log.get(\"data\")) == 130:\n",
        "        data.append(log.get(\"data\")[0:66])\n",
        "        data.append(log.get(\"data\")[66:])\n",
        "        # print(data)\n",
        "    if len(log.get(\"data\")) == 258:\n",
        "        data.append(log.get(\"data\")[0:66])\n",
        "        data.append(log.get(\"data\")[66:])\n",
        "        # print(data)\n",
        "\n",
        "    for d in data:\n",
        "        print(int(d,16)/(10**int(addrs[log.get(\"address\")].get(\"decimal\"))))\n",
        "\n",
        "def fetchdate(blockno, apikey):\n",
        "    url = f\"https://api.snowtrace.io/api?module=block&action=getblockreward&blockno={blockno}&apikey={apikey}\"\n",
        "    # print(url)\n",
        "    res = requests.get(url)\n",
        "    # print(json.dumps(res.json()))   \n",
        "    return datetime.datetime.fromtimestamp(int(res.json().get(\"result\").get(\"timeStamp\"))).strftime(\"%d-%m-%Y %H:%M:%S\")\n",
        "\n",
        "def fetchtxn(r, apikey, contract_address=None):\n",
        "    # print(r)\n",
        "    url = \"https://api.snowtrace.io/api?module=proxy&action=eth_getTransactionReceipt&txhash=\"+r.get(\"hash\")+\"&apikey=\" + apikey\n",
        "    # print(url)\n",
        "    res = requests.get(url)\n",
        "    # print(json.dumps(res.json()))   \n",
        "    return res.json()\n",
        "\n",
        "def process(txn, apikey):\n",
        "    if not txn.get(\"result\").get(\"logs\"):\n",
        "        return \n",
        "\n",
        "    for log in txn.get(\"result\").get(\"logs\"):\n",
        "        if signatures.get(\"Transfer\") not in log.get(\"topics\"):\n",
        "            continue\n",
        "        if not matchcontractinlog(contract_address.lower(), log):\n",
        "            continue\n",
        "\n",
        "        if not addrs.get(log.get(\"address\")):\n",
        "            time.sleep(0.2)\n",
        "            token = fetchtkn(log.get(\"address\"),apikey)\n",
        "            # print(token)\n",
        "            if \"symbol\" not in token:\n",
        "                print(\"token lookup error\")\n",
        "                continue\n",
        "        else:\n",
        "            token = addrs.get(log.get(\"address\"))\n",
        "\n",
        "        txndate = fetchdate(int(txn.get(\"result\").get(\"blockNumber\"),16),apikey)\n",
        "        print(txndate)\n",
        "    \n",
        "        addrs[log.get(\"address\")] = token\n",
        "        parsedata(log)\n",
        "\n",
        "    print(\"-\"*50)\n",
        "\n",
        "def fetch(address, apikey):\n",
        "    url = \"https://api.snowtrace.io/api?module=account&action=txlist&contractaddress=\"+contract_address+\"&address=\"+address+\"&sort=asc&apikey=\" + apikey\n",
        "    res = requests.get(url)\n",
        "    # print(res.json())\n",
        "\n",
        "    for r in res.json().get(\"result\"):\n",
        "        time.sleep(0.2)\n",
        "        txn = fetchtxn(r, apikey, contract_address)\n",
        "\n",
        "        # print(txn)\n",
        "        process(txn, apikey)\n",
        "\n",
        "\n"
      ],
      "metadata": {
        "id": "yNWUbaPb-qE8"
      },
      "execution_count": 8,
      "outputs": []
    },
    {
      "cell_type": "code",
      "source": [
        "fetch(wallet_address, api_key)"
      ],
      "metadata": {
        "id": "2YVY6fXY_F4M"
      },
      "execution_count": null,
      "outputs": []
    }
  ]
}