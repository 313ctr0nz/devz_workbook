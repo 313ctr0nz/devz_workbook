{
  "nbformat": 4,
  "nbformat_minor": 0,
  "metadata": {
    "colab": {
      "name": "313avax.ipynb",
      "provenance": [],
      "collapsed_sections": [],
      "authorship_tag": "ABX9TyPgCpJ9mN+VGXs2GR6XOaaH",
      "include_colab_link": true
    },
    "kernelspec": {
      "name": "python3",
      "display_name": "Python 3"
    },
    "language_info": {
      "name": "python"
    }
  },
  "cells": [
    {
      "cell_type": "markdown",
      "metadata": {
        "id": "view-in-github",
        "colab_type": "text"
      },
      "source": [
        "<a href=\"https://colab.research.google.com/github/313ctr0nz/devz_workbook/blob/main/313avax.ipynb\" target=\"_parent\"><img src=\"https://colab.research.google.com/assets/colab-badge.svg\" alt=\"Open In Colab\"/></a>"
      ]
    },
    {
      "cell_type": "code",
      "execution_count": 33,
      "metadata": {
        "id": "UUylSRBf9RnY"
      },
      "outputs": [],
      "source": [
        "api_key = \"\"\n",
        "wallet_address = \"0x5e8dcda987e97f78baf533bde8493a0a726ad1ef\" \n",
        "contract_address = \"0x95189f25b4609120F72783E883640216E92732DA\" # Thor"
      ]
    },
    {
      "cell_type": "code",
      "source": [
        "# MOVE ALL OF THIS TO A MODULE PLEASE!!!!\n",
        "\n",
        "import argparse\n",
        "import json\n",
        "import requests\n",
        "import time \n",
        "\n",
        "signatures = {\n",
        "    \"Transfer\"  : \"0xddf252ad1be2c89b69c2b068fc378daa952ba7f163c4a11628f55a4df523b3ef\",\n",
        "    \"Approve\"   : \"0x8c5be1e5ebec7d5bd14f71427d1e84f3dd0314c0f7b2291e5b200ac8c7c3b925\",\n",
        "    \"Sync\"      : \"0x1c411e9a96e071241c2f21f7726b17ae89e3cab4c78be50e062b03a9fffbbad1\",\n",
        "    \"Swap\"      : \"0xd78ad95fa46c994b6551d0da85fc275fe613ce37657fb8d5e3d130840159d822\",\n",
        "}\n",
        "\n",
        "addrs = {}\n",
        "\n",
        "def fetchtkn(contractAddr, apikey):\n",
        "    url = f\"https://api.snowtrace.io/api?module=account&action=tokentx&contractaddress={contractAddr}&page=1&offset=1&sort=desc&apikey={apikey}\"\n",
        "    # print(url)\n",
        "    try:\n",
        "        res = requests.get(url, timeout=1)\n",
        "        r=res.json().get(\"result\")[0]\n",
        "        # print(r)\n",
        "        return { \"name\" : r.get('tokenName'), \"symbol\" : r.get('tokenSymbol'), \"decimal\" : r.get('tokenDecimal')}\n",
        "    except:\n",
        "        print(\"Timeout\")\n",
        "        return {}\n",
        "\n",
        "def matchcontractinlog(contract_address, log):\n",
        "    for topic in log.get(\"topics\"):\n",
        "        # print(topic)\n",
        "        if contract_address[2:] in topic:\n",
        "            return True \n",
        "    return False\n",
        "\n",
        "def parsedata(log):\n",
        "    print(\"-\"*50)\n",
        "    print(addrs[log.get(\"address\")])\n",
        "    data = []\n",
        "    if len(log.get(\"data\")) == 66:\n",
        "        data.append(log.get(\"data\"))\n",
        "    if len(log.get(\"data\")) == 130:\n",
        "        data.append(log.get(\"data\")[0:66])\n",
        "        data.append(log.get(\"data\")[66:])\n",
        "        # print(data)\n",
        "    if len(log.get(\"data\")) == 258:\n",
        "        data.append(log.get(\"data\")[0:66])\n",
        "        data.append(log.get(\"data\")[66:])\n",
        "        # print(data)\n",
        "\n",
        "    for d in data:\n",
        "        print(int(d,16)/(10**int(addrs[log.get(\"address\")].get(\"decimal\"))))\n",
        "\n",
        "def fetchtxn(r, apikey, contract_address=None):\n",
        "    # print(r)\n",
        "    url = \"https://api.snowtrace.io/api?module=proxy&action=eth_getTransactionReceipt&txhash=\"+r.get(\"hash\")+\"&apikey=\" + apikey\n",
        "    # print(url)\n",
        "    res = requests.get(url)\n",
        "    # print(json.dumps(res.json()))   \n",
        "    return res.json()\n",
        "\n",
        "def process(txn, apikey):\n",
        "    if not txn.get(\"result\").get(\"logs\"):\n",
        "        return \n",
        "\n",
        "    for log in txn.get(\"result\").get(\"logs\"):\n",
        "        if signatures.get(\"Transfer\") not in log.get(\"topics\"):\n",
        "            continue\n",
        "        if not matchcontractinlog(contract_address.lower(), log):\n",
        "            continue\n",
        "\n",
        "        if not addrs.get(log.get(\"address\")):\n",
        "            time.sleep(0.2)\n",
        "            token = fetchtkn(log.get(\"address\"),apikey)\n",
        "            # print(token)\n",
        "            if \"symbol\" not in token:\n",
        "                print(\"token lookup error\")\n",
        "                continue\n",
        "        else:\n",
        "            token = addrs.get(log.get(\"address\"))\n",
        "        addrs[log.get(\"address\")] = token\n",
        "        parsedata(log)\n",
        "\n",
        "def fetch(address, apikey):\n",
        "    url = \"https://api.snowtrace.io/api?module=account&action=txlist&address=\"+address+\"&startblock=1&endblock=99999999&sort=asc&apikey=\" + apikey\n",
        "    # print(url)\n",
        "\n",
        "    res = requests.get(url)\n",
        "    # print(res.json())\n",
        "    for r in res.json().get(\"result\"):\n",
        "        time.sleep(0.2)\n",
        "        txn = fetchtxn(r, apikey, contract_address)\n",
        "        # print(txn)\n",
        "        process(txn, apikey)\n",
        "\n",
        "\n"
      ],
      "metadata": {
        "id": "yNWUbaPb-qE8"
      },
      "execution_count": 82,
      "outputs": []
    },
    {
      "cell_type": "code",
      "source": [
        "fetch(wallet_address, api_key)"
      ],
      "metadata": {
        "id": "2YVY6fXY_F4M",
        "outputId": "7829da67-ba89-41b1-a07c-be3df4a38f74",
        "colab": {
          "base_uri": "https://localhost:8080/",
          "height": 1000
        }
      },
      "execution_count": 83,
      "outputs": [
        {
          "output_type": "stream",
          "name": "stdout",
          "text": [
            "--------------------------------------------------\n",
            "{'name': 'Wrapped AVAX', 'symbol': 'WAVAX', 'decimal': '18'}\n",
            "16.61178999335524\n",
            "--------------------------------------------------\n",
            "{'name': 'THOR v2', 'symbol': 'THOR', 'decimal': '18'}\n",
            "7.611474940935059\n",
            "--------------------------------------------------\n",
            "{'name': 'THOR v2', 'symbol': 'THOR', 'decimal': '18'}\n",
            "0.07002\n",
            "--------------------------------------------------\n",
            "{'name': 'Wrapped AVAX', 'symbol': 'WAVAX', 'decimal': '18'}\n",
            "0.20666492037451623\n",
            "--------------------------------------------------\n",
            "{'name': 'THOR v2', 'symbol': 'THOR', 'decimal': '18'}\n",
            "1.2416549409350592\n",
            "--------------------------------------------------\n",
            "{'name': 'Wrapped AVAX', 'symbol': 'WAVAX', 'decimal': '18'}\n",
            "3.671604237801223\n",
            "--------------------------------------------------\n",
            "{'name': 'THOR v2', 'symbol': 'THOR', 'decimal': '18'}\n",
            "0.03501\n",
            "--------------------------------------------------\n",
            "{'name': 'Wrapped AVAX', 'symbol': 'WAVAX', 'decimal': '18'}\n",
            "0.15076252943339083\n",
            "--------------------------------------------------\n",
            "{'name': 'THOR v2', 'symbol': 'THOR', 'decimal': '18'}\n",
            "0.31509\n",
            "--------------------------------------------------\n",
            "{'name': 'Wrapped AVAX', 'symbol': 'WAVAX', 'decimal': '18'}\n",
            "1.3535524439955784\n",
            "--------------------------------------------------\n",
            "{'name': 'THOR v2', 'symbol': 'THOR', 'decimal': '18'}\n",
            "0.09336\n",
            "--------------------------------------------------\n",
            "{'name': 'Wrapped AVAX', 'symbol': 'WAVAX', 'decimal': '18'}\n",
            "0.2723826738403108\n",
            "--------------------------------------------------\n",
            "{'name': 'THOR v2', 'symbol': 'THOR', 'decimal': '18'}\n",
            "0.84024\n",
            "--------------------------------------------------\n",
            "{'name': 'Wrapped AVAX', 'symbol': 'WAVAX', 'decimal': '18'}\n",
            "2.5010025723262834\n",
            "--------------------------------------------------\n",
            "{'name': 'THOR v2', 'symbol': 'THOR', 'decimal': '18'}\n",
            "0.06782782291666109\n",
            "--------------------------------------------------\n",
            "{'name': 'Wrapped AVAX', 'symbol': 'WAVAX', 'decimal': '18'}\n",
            "0.29611084786237274\n",
            "--------------------------------------------------\n",
            "{'name': 'THOR v2', 'symbol': 'THOR', 'decimal': '18'}\n",
            "0.6104504062499497\n",
            "--------------------------------------------------\n",
            "{'name': 'Wrapped AVAX', 'symbol': 'WAVAX', 'decimal': '18'}\n",
            "2.631050675286647\n"
          ]
        },
        {
          "output_type": "error",
          "ename": "KeyboardInterrupt",
          "evalue": "ignored",
          "traceback": [
            "\u001b[0;31m---------------------------------------------------------------------------\u001b[0m",
            "\u001b[0;31mKeyboardInterrupt\u001b[0m                         Traceback (most recent call last)",
            "\u001b[0;32m<ipython-input-83-ba6b8f73a29e>\u001b[0m in \u001b[0;36m<module>\u001b[0;34m()\u001b[0m\n\u001b[0;32m----> 1\u001b[0;31m \u001b[0mfetch\u001b[0m\u001b[0;34m(\u001b[0m\u001b[0mwallet_address\u001b[0m\u001b[0;34m,\u001b[0m \u001b[0mapi_key\u001b[0m\u001b[0;34m)\u001b[0m\u001b[0;34m\u001b[0m\u001b[0;34m\u001b[0m\u001b[0m\n\u001b[0m",
            "\u001b[0;32m<ipython-input-82-39d771f9c9db>\u001b[0m in \u001b[0;36mfetch\u001b[0;34m(address, apikey)\u001b[0m\n\u001b[1;32m     89\u001b[0m     \u001b[0;31m# print(res.json())\u001b[0m\u001b[0;34m\u001b[0m\u001b[0;34m\u001b[0m\u001b[0;34m\u001b[0m\u001b[0m\n\u001b[1;32m     90\u001b[0m     \u001b[0;32mfor\u001b[0m \u001b[0mr\u001b[0m \u001b[0;32min\u001b[0m \u001b[0mres\u001b[0m\u001b[0;34m.\u001b[0m\u001b[0mjson\u001b[0m\u001b[0;34m(\u001b[0m\u001b[0;34m)\u001b[0m\u001b[0;34m.\u001b[0m\u001b[0mget\u001b[0m\u001b[0;34m(\u001b[0m\u001b[0;34m\"result\"\u001b[0m\u001b[0;34m)\u001b[0m\u001b[0;34m:\u001b[0m\u001b[0;34m\u001b[0m\u001b[0;34m\u001b[0m\u001b[0m\n\u001b[0;32m---> 91\u001b[0;31m         \u001b[0mtime\u001b[0m\u001b[0;34m.\u001b[0m\u001b[0msleep\u001b[0m\u001b[0;34m(\u001b[0m\u001b[0;36m0.2\u001b[0m\u001b[0;34m)\u001b[0m\u001b[0;34m\u001b[0m\u001b[0;34m\u001b[0m\u001b[0m\n\u001b[0m\u001b[1;32m     92\u001b[0m         \u001b[0mtxn\u001b[0m \u001b[0;34m=\u001b[0m \u001b[0mfetchtxn\u001b[0m\u001b[0;34m(\u001b[0m\u001b[0mr\u001b[0m\u001b[0;34m,\u001b[0m \u001b[0mapikey\u001b[0m\u001b[0;34m,\u001b[0m \u001b[0mcontract_address\u001b[0m\u001b[0;34m)\u001b[0m\u001b[0;34m\u001b[0m\u001b[0;34m\u001b[0m\u001b[0m\n\u001b[1;32m     93\u001b[0m         \u001b[0;31m# print(txn)\u001b[0m\u001b[0;34m\u001b[0m\u001b[0;34m\u001b[0m\u001b[0;34m\u001b[0m\u001b[0m\n",
            "\u001b[0;31mKeyboardInterrupt\u001b[0m: "
          ]
        }
      ]
    }
  ]
}